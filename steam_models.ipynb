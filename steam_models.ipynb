{
 "cells": [
  {
   "cell_type": "code",
   "execution_count": 1,
   "metadata": {
    "collapsed": true
   },
   "outputs": [],
   "source": [
    "import pandas as pd\n",
    "from sklearn import model_selection\n",
    "from sklearn.metrics import classification_report\n",
    "from sklearn.metrics import confusion_matrix\n",
    "from sklearn.metrics import accuracy_score\n",
    "from sklearn.linear_model import LogisticRegression\n",
    "from sklearn.tree import DecisionTreeClassifier\n",
    "from sklearn.neighbors import KNeighborsClassifier\n",
    "from sklearn.naive_bayes import GaussianNB\n",
    "from sklearn.ensemble import RandomForestClassifier\n",
    "from sklearn.neural_network import MLPClassifier\n",
    "from warnings import simplefilter\n",
    "\n",
    "# Get input for model training and validation\n",
    "data_set = pd.read_csv('steam-cleaned.csv')\n",
    "data_array = data_set.values\n",
    "input_array = data_array[:, 1:10]\n",
    "output_array = data_array[:, 10]\n",
    "\n",
    "# Split data into train and validation sets, then each set into input and labels (referred to as output here)\n",
    "validation_size = 0.20\n",
    "input_train, input_validation, output_train, output_validation = model_selection.train_test_split(input_array, output_array, test_size=validation_size, random_state=42)"
   ]
  },
  {
   "cell_type": "code",
   "execution_count": 2,
   "metadata": {},
   "outputs": [
    {
     "name": "stdout",
     "output_type": "stream",
     "text": [
      "LR: 0.806279 (0.006543)\n"
     ]
    },
    {
     "name": "stdout",
     "output_type": "stream",
     "text": [
      "KNN: 0.773038 (0.023732)\nCART: 0.810203 (0.006777)\n"
     ]
    },
    {
     "name": "stdout",
     "output_type": "stream",
     "text": [
      "NB: 0.803924 (0.006646)\n"
     ]
    },
    {
     "name": "stdout",
     "output_type": "stream",
     "text": [
      "RFC: 0.810526 (0.006710)\n"
     ]
    },
    {
     "name": "stdout",
     "output_type": "stream",
     "text": [
      "MLP: 0.809603 (0.006239)\n"
     ]
    }
   ],
   "source": [
    "# List of models we'll use\n",
    "models = [('LR', LogisticRegression(solver='liblinear')), ('KNN', KNeighborsClassifier()),\n",
    "          ('CART', DecisionTreeClassifier()), ('NB', GaussianNB()), ('RFC', RandomForestClassifier()),\n",
    "          ('MLP', MLPClassifier(hidden_layer_sizes=(10, 10, 10), max_iter=1000))]\n",
    "\n",
    "simplefilter(action='ignore', category=FutureWarning)  # Otherwise output is clouded with future warnings\n",
    "\n",
    "# K-fold cross-validation with k=10 to evaluate the models using training data\n",
    "results = []\n",
    "names = []\n",
    "\n",
    "for name, model in models:\n",
    "    kfold = model_selection.KFold(n_splits=10, random_state=42)\n",
    "    cv_results = model_selection.cross_val_score(model, input_train, output_train, cv=kfold, scoring='accuracy')\n",
    "    results.append(cv_results)\n",
    "    names.append(name)\n",
    "    msg = \"%s: %f (%f)\" % (name, cv_results.mean(), cv_results.std())  # Display both the mean and standard deviation of the accuracy score\n",
    "    print(msg)"
   ]
  },
  {
   "cell_type": "code",
   "execution_count": 3,
   "metadata": {},
   "outputs": [
    {
     "name": "stdout",
     "output_type": "stream",
     "text": [
      "0.8151431209602955\n[[2340  329]\n [ 672 2074]]\n              precision    recall  f1-score   support\n\n           0       0.78      0.88      0.82      2669\n           1       0.86      0.76      0.81      2746\n\n    accuracy                           0.82      5415\n   macro avg       0.82      0.82      0.81      5415\nweighted avg       0.82      0.82      0.81      5415\n\n"
     ]
    }
   ],
   "source": [
    "# LR, CART, RFC, MLP are all viable options with sufficiently high accuracies\n",
    "# We'll feed the validation data into RFC and print out the accuracy score, confusion matrix, and classification report\n",
    "rfc = RandomForestClassifier()\n",
    "rfc.fit(input_train, output_train)\n",
    "predictions = rfc.predict(input_validation)\n",
    "print(accuracy_score(output_validation, predictions))\n",
    "print(confusion_matrix(output_validation, predictions))\n",
    "print(classification_report(output_validation, predictions))"
   ]
  },
  {
   "cell_type": "code",
   "execution_count": 4,
   "metadata": {},
   "outputs": [],
   "source": [
    "# The model performs decently with unseen data, with good accuracy score, precision, and recall\n",
    "# Next step is algorithm tuning"
   ]
  },
  {
   "cell_type": "code",
   "execution_count": null,
   "metadata": {},
   "outputs": [],
   "source": []
  }
 ],
 "metadata": {
  "kernelspec": {
   "display_name": "Python 2",
   "language": "python",
   "name": "python2"
  },
  "language_info": {
   "codemirror_mode": {
    "name": "ipython",
    "version": 2
   },
   "file_extension": ".py",
   "mimetype": "text/x-python",
   "name": "python",
   "nbconvert_exporter": "python",
   "pygments_lexer": "ipython2",
   "version": "2.7.6"
  }
 },
 "nbformat": 4,
 "nbformat_minor": 0
}
